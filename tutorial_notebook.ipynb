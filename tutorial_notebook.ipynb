{
 "cells": [
  {
   "cell_type": "markdown",
   "id": "916c0d13-a5fe-4581-8a65-2f426011b9e1",
   "metadata": {},
   "source": [
    "## Imports"
   ]
  },
  {
   "cell_type": "code",
   "execution_count": 3,
   "id": "0f40cd2f-876b-4764-a0ea-0d56783ae4ec",
   "metadata": {},
   "outputs": [],
   "source": [
    "import fnmatch\n",
    "import logging\n",
    "import math\n",
    "import multiprocessing\n",
    "import os\n",
    "import tempfile\n",
    "from typing import Any, Dict, List, Optional, Tuple\n",
    "\n",
    "import joblib\n",
    "import pytorch_lightning as pl\n",
    "import matplotlib.pyplot as plt\n",
    "import numpy as np\n",
    "import requests\n",
    "import torch\n",
    "from torch.utils.data import Dataset, DataLoader\n",
    "\n",
    "\n",
    "logger = logging.getLogger(\"notebook\")"
   ]
  },
  {
   "cell_type": "markdown",
   "id": "c1c3daa1-fe6f-4554-8401-3f37ae3d63ff",
   "metadata": {},
   "source": [
    "## GPT Papers\n",
    "Here are the papers for reference\n",
    "* GPT-1: [Improving Language Understanding\n",
    "by Generative Pre-Training](https://cdn.openai.com/research-covers/language-unsupervised/language_understanding_paper.pdf)\n",
    "* GPT-2: [Language Models are Unsupervised Multitask Learners](https://d4mucfpksywv.cloudfront.net/better-language-models/language_models_are_unsupervised_multitask_learners.pdf)\n",
    "* GPT-3: [Language Models are Few-Shot Learners](https://arxiv.org/pdf/2005.14165.pdf)\n",
    "\n",
    "\n",
    "## Implementing the GPT-2 decoder stack\n",
    "Here is the decoder-only stack from the GPT-1 paper:\n",
    "\n",
    "![](https://i.stack.imgur.com/Kb8Gq.png)\n",
    "\n",
    "NOTE a few changes introduced in GPT-2: \n",
    "* An additional layer normalization was added after the final self-attention block.\n",
    "* We always have the feedforward layer four times the size of the bottleneck layer, dff = 4 ∗ dmodel"
   ]
  },
  {
   "cell_type": "code",
   "execution_count": 8,
   "id": "ab5e965e-74c2-464c-95ea-053604c80c88",
   "metadata": {},
   "outputs": [],
   "source": [
    "from char import GptTransfomer\n",
    "\n",
    "\n",
    "class TutorialGptTransfomer(GptTransfomer):\n",
    "    \"\"\"\"\"\"\n",
    "\n",
    "    def __init__(\n",
    "        self,\n",
    "        vocab_size: int,\n",
    "        weight_decay: float = 0.1,\n",
    "        betas: Tuple[float, float] = (0.9, 0.95),\n",
    "        learning_rate: float = 3e-4,\n",
    "        n_embedding_dims: int = 768,\n",
    "        block_size: int = 128,\n",
    "        embedding_drop_probability: float = 0.1,\n",
    "        n_layers: int = 12,\n",
    "        n_attention_heads: int = 4,\n",
    "        residual_drop_probability: float = 0.1,\n",
    "        self_attention_drop_probability: float = 0.1,\n",
    "    ):\n",
    "        super().__init__(vocab_size=vocab_size)\n",
    "        self.hparams: Any  # Adding this line to please mypy.\n",
    "        # Saves all of the arguments passed to __init__ to self.hparams\n",
    "        self.save_hyperparameters()\n",
    "        \n",
    "        # ==============\n",
    "        # IMPLEMENT THIS\n",
    "        # ==============\n",
    "        \n",
    "        # Initialise parameters.\n",
    "        self.apply(self._init_weights)\n",
    "        n_parameters: int = sum(p.numel() for p in self.parameters())\n",
    "        logger.info(f\"Number of parameters: {n_parameters}\")\n",
    "\n",
    "    def forward(self, x: torch.Tensor) -> torch.Tensor:\n",
    "        \"\"\"forward pass of the model.\n",
    "\n",
    "        Parameters\n",
    "        ----------\n",
    "        x : torch.Tensor\n",
    "            input tensor of shape (batch_size, block_size). Here `x` is a\n",
    "            sequence of tokens, where each token is an integer in the range\n",
    "            [0, vocab_size).\n",
    "\n",
    "        Returns\n",
    "        -------\n",
    "        logits : torch.Tensor\n",
    "            output tensor of shape (batch_size, block_size, vocab_size).\n",
    "        \"\"\"\n",
    "        batch_size, block_size = x.shape\n",
    "        \n",
    "        # ==============\n",
    "        # IMPLEMENT THIS\n",
    "        # ==============\n",
    "        \n",
    "        return logits\n",
    "    \n",
    "    \n",
    "# TutorialGptTransfomer(vocab_size=10)"
   ]
  },
  {
   "cell_type": "markdown",
   "id": "6a3bad2d-80d4-4a00-a82c-43fce0d9c115",
   "metadata": {},
   "source": [
    "## GPT Transformer Block (we need to stack 12 of these)\n",
    "\n",
    "Official implementation of the block:\n",
    "* Official GPT-2 MLP implementation [here](https://github.com/openai/gpt-2/blob/a74da5d99abaaba920de8131d64da2862a8f213b/src/model.py#L115-L120), and MLP is invoked [here](https://github.com/openai/gpt-2/blob/a74da5d99abaaba920de8131d64da2862a8f213b/src/model.py#L128).\n",
    "* Official GPT-2 block implementation [here](https://github.com/openai/gpt-2/blob/a74da5d99abaaba920de8131d64da2862a8f213b/src/model.py#L123-L130).\n",
    "\n",
    "<img src=\"https://iili.io/poaGee.png\" alt=\"drawing\" width=\"200\"/>\n",
    "\n",
    "_Also note GPT-2 introduced over GPT-1:_\n",
    "* LayerNorm was moved to the input of each sub-block, similar to a pre-activation residual network.\n"
   ]
  },
  {
   "cell_type": "code",
   "execution_count": 9,
   "id": "3a78f57d-b58e-4050-affd-75fee552ed7c",
   "metadata": {},
   "outputs": [],
   "source": [
    "class GptTransformerBlock(torch.nn.Module):\n",
    "    \"\"\"an unassuming Transformer block\"\"\"\n",
    "\n",
    "    def __init__(\n",
    "        self,\n",
    "        n_embedding_dims: int,\n",
    "        n_attention_heads: int,\n",
    "        self_attention_drop_probability: float,\n",
    "        residual_drop_probability: float,\n",
    "        block_size: int,\n",
    "    ):\n",
    "        super().__init__()\n",
    "        \n",
    "        # ==============\n",
    "        # IMPLEMENT THIS\n",
    "        # ==============\n",
    "\n",
    "\n",
    "    def forward(self, x: torch.Tensor) -> torch.Tensor:\n",
    "        \"\"\"Forward pass the transformer block.\"\"\"\n",
    "        \n",
    "        # ==============\n",
    "        # IMPLEMENT THIS\n",
    "        # ==============\n",
    "        \n",
    "        return x"
   ]
  },
  {
   "cell_type": "markdown",
   "id": "c9630d3f-05b0-427f-ba5f-e0383b8a756c",
   "metadata": {},
   "source": [
    "## Implementing the causal self-attention\n",
    "\n",
    "Note there is the causal mask:\n",
    "![](https://raw.githubusercontent.com/raviteja-ganta/raviteja-ganta.github.io/main/assets/images/Transformers/tf_24.png)\n",
    "\n",
    "The rows here allow us to attend with each word in the sentance. We want to mask to prevent words from being attended with future words."
   ]
  },
  {
   "cell_type": "code",
   "execution_count": 19,
   "id": "ef22d30a-b5b7-41be-9772-65236c1915e5",
   "metadata": {},
   "outputs": [
    {
     "data": {
      "image/png": "[encoded data removed]",
      "text/plain": [
       "<Figure size 432x288 with 2 Axes>"
      ]
     },
     "metadata": {
      "needs_background": "light"
     },
     "output_type": "display_data"
    }
   ],
   "source": [
    "block_size: int = 10\n",
    "# Build the causal mask.\n",
    "triangle_matrix: torch.Tensor = torch.tril(torch.ones(block_size, block_size))\n",
    "is_future_token_mask: torch.Tensor = torch.isclose(triangle_matrix, torch.tensor(0.0))\n",
    "# Plot the thing:\n",
    "plt.imshow(is_future_token_mask)\n",
    "_ = plt.colorbar()"
   ]
  },
  {
   "cell_type": "markdown",
   "id": "ca0a64f7-91f1-4195-a5ba-c024cb458ce7",
   "metadata": {},
   "source": [
    "Lets keep the mask in the back of our minds. \n",
    "\n",
    "Next lets implement the self-attention module. All the steps looks something like:\n",
    "![](https://raw.githubusercontent.com/raviteja-ganta/raviteja-ganta.github.io/main/assets/images/Transformers/tf_19.png)"
   ]
  },
  {
   "cell_type": "code",
   "execution_count": null,
   "id": "19f4d875-7b20-457d-97d7-e0927b6a544a",
   "metadata": {},
   "outputs": [],
   "source": [
    "class CausalSelfAttention(torch.nn.Module):\n",
    "    \"\"\"A Causal Self-Attention module.\"\"\"\n",
    "\n",
    "    def __init__(\n",
    "        self,\n",
    "        n_embedding_dims: int,\n",
    "        n_attention_heads: int,\n",
    "        self_attention_drop_probability: float,\n",
    "        residual_drop_probability: float,\n",
    "        block_size: int,\n",
    "    ):\n",
    "        super().__init__()\n",
    "        assert n_embedding_dims % n_attention_heads == 0, (\n",
    "            \"Number of embedding dimensions should be divisible by the number \"\n",
    "            \"of attention heads, this means each head gets an equal share of \"\n",
    "            \"the embedding dimensions.\"\n",
    "        )\n",
    "        \n",
    "        # ==============\n",
    "        # IMPLEMENT THIS\n",
    "        # ==============\n",
    "\n",
    "\n",
    "    def forward(self, x: torch.Tensor) -> torch.Tensor:\n",
    "        \"\"\"Compute the self-attention.\"\"\"\n",
    "        batch_size, block_size, n_embedding_dims = x.shape\n",
    "        \n",
    "        # ==============\n",
    "        # IMPLEMENT THIS\n",
    "        # ==============\n"
   ]
  }
 ],
 "metadata": {
  "kernelspec": {
   "display_name": "Python (gpt)",
   "language": "python",
   "name": "gpt"
  },
  "language_info": {
   "codemirror_mode": {
    "name": "ipython",
    "version": 3
   },
   "file_extension": ".py",
   "mimetype": "text/x-python",
   "name": "python",
   "nbconvert_exporter": "python",
   "pygments_lexer": "ipython3",
   "version": "3.9.13"
  }
 },
 "nbformat": 4,
 "nbformat_minor": 5
}
